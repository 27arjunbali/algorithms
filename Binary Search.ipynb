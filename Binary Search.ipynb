{
 "cells": [
  {
   "cell_type": "code",
   "execution_count": 1,
   "metadata": {},
   "outputs": [],
   "source": [
    "def binarySearch(a,low,high,key):\n",
    "    l=[]\n",
    "    while(low<=high):\n",
    "        mid=int((low+high)/2)\n",
    "        if a[mid]<key:\n",
    "            low=mid+1\n",
    "        elif a[mid]>key:\n",
    "            high=mid-1\n",
    "        else:\n",
    "            return mid+1\n",
    "            \n",
    "    return -1            "
   ]
  },
  {
   "cell_type": "code",
   "execution_count": 2,
   "metadata": {},
   "outputs": [
    {
     "name": "stdout",
     "output_type": "stream",
     "text": [
      "5\n",
      "1 2 3 4 5\n",
      "5\n",
      "1\n",
      "2\n",
      "3\n",
      "4\n",
      "5\n",
      "1\n",
      "2\n",
      "3\n",
      "4\n",
      "5\n"
     ]
    }
   ],
   "source": [
    "import re\n",
    "len_of_integer=int(input())\n",
    "numbers=input()\n",
    "num_of_query=int(input())\n",
    "query=[]\n",
    "for i in range(0,num_of_query):\n",
    "    i=int(input())\n",
    "    query.append(i)\n",
    "numbers = list(map(int, re.findall('\\d+', numbers)))\n",
    "numbers.sort()\n",
    "numbers=list(map(lambda x: int(x) , numbers))\n",
    "for i in query:\n",
    "    v=binarySearch(numbers,0,len(numbers)-1,i)\n",
    "    print(v)"
   ]
  },
  {
   "cell_type": "code",
   "execution_count": null,
   "metadata": {},
   "outputs": [],
   "source": []
  }
 ],
 "metadata": {
  "kernelspec": {
   "display_name": "Python 3",
   "language": "python",
   "name": "python3"
  },
  "language_info": {
   "codemirror_mode": {
    "name": "ipython",
    "version": 3
   },
   "file_extension": ".py",
   "mimetype": "text/x-python",
   "name": "python",
   "nbconvert_exporter": "python",
   "pygments_lexer": "ipython3",
   "version": "3.6.5"
  }
 },
 "nbformat": 4,
 "nbformat_minor": 2
}
