{
 "cells": [
  {
   "cell_type": "markdown",
   "metadata": {},
   "source": [
    "Linear Search"
   ]
  },
  {
   "cell_type": "markdown",
   "metadata": {},
   "source": [
    "Input Format:\n",
    "\n",
    "The first line consists of 2 integers N and M denoting the size of the array and the element to be searched for in the array respectively . The next line contains N space separated integers denoting the elements of of the array.\n",
    "\n",
    "Output Format\n",
    "\n",
    "Print a single integer denoting the index of the last occurrence of integer M in the array if it exists, otherwise print -1.\n",
    "you can find this challenge on hackerearth algorithms"
   ]
  },
  {
   "cell_type": "code",
   "execution_count": null,
   "metadata": {},
   "outputs": [],
   "source": [
    "import re\n",
    "len_of_integer=input()\n",
    "numbers=input()\n",
    "len_of_integer = list(map(int, re.findall('\\d+', len_of_integer)))\n",
    "numbers = list(map(int, re.findall('\\d+', numbers)))\n",
    "l=[]\n",
    "count=0\n",
    "for i in range(0,len(numbers)):\n",
    "    count+=1\n",
    "    if len_of_integer[1]==numbers[i]:\n",
    "        l.append(count)\n",
    "if len(l)==0:\n",
    "    print(-1)\n",
    "else:\n",
    "    print(l[-1])"
   ]
  }
 ],
 "metadata": {
  "kernelspec": {
   "display_name": "Python 3",
   "language": "python",
   "name": "python3"
  },
  "language_info": {
   "codemirror_mode": {
    "name": "ipython",
    "version": 3
   },
   "file_extension": ".py",
   "mimetype": "text/x-python",
   "name": "python",
   "nbconvert_exporter": "python",
   "pygments_lexer": "ipython3",
   "version": "3.6.5"
  }
 },
 "nbformat": 4,
 "nbformat_minor": 2
}
